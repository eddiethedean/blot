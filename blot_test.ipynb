{
 "cells": [
  {
   "cell_type": "code",
   "execution_count": 1,
   "id": "7f96c48c",
   "metadata": {},
   "outputs": [],
   "source": [
    "import pandas as pd"
   ]
  },
  {
   "cell_type": "code",
   "execution_count": 2,
   "id": "e86c08f7",
   "metadata": {},
   "outputs": [
    {
     "data": {
      "text/html": [
       "<div>\n",
       "<style scoped>\n",
       "    .dataframe tbody tr th:only-of-type {\n",
       "        vertical-align: middle;\n",
       "    }\n",
       "\n",
       "    .dataframe tbody tr th {\n",
       "        vertical-align: top;\n",
       "    }\n",
       "\n",
       "    .dataframe thead th {\n",
       "        text-align: right;\n",
       "    }\n",
       "</style>\n",
       "<table border=\"1\" class=\"dataframe\">\n",
       "  <thead>\n",
       "    <tr style=\"text-align: right;\">\n",
       "      <th></th>\n",
       "      <th>Customer</th>\n",
       "      <th>Date</th>\n",
       "      <th>Symbol</th>\n",
       "      <th>Buy/Sell</th>\n",
       "    </tr>\n",
       "  </thead>\n",
       "  <tbody>\n",
       "    <tr>\n",
       "      <th>0</th>\n",
       "      <td>Bob</td>\n",
       "      <td>2020-01-01</td>\n",
       "      <td>GME</td>\n",
       "      <td>Buy</td>\n",
       "    </tr>\n",
       "    <tr>\n",
       "      <th>1</th>\n",
       "      <td>Bob</td>\n",
       "      <td>2020-01-01</td>\n",
       "      <td>GME</td>\n",
       "      <td>Sell</td>\n",
       "    </tr>\n",
       "    <tr>\n",
       "      <th>2</th>\n",
       "      <td>Bob</td>\n",
       "      <td>2020-01-02</td>\n",
       "      <td>GME</td>\n",
       "      <td>Buy</td>\n",
       "    </tr>\n",
       "    <tr>\n",
       "      <th>3</th>\n",
       "      <td>Bob</td>\n",
       "      <td>2020-01-02</td>\n",
       "      <td>TWTR</td>\n",
       "      <td>Buy</td>\n",
       "    </tr>\n",
       "    <tr>\n",
       "      <th>4</th>\n",
       "      <td>Cindy</td>\n",
       "      <td>2020-01-05</td>\n",
       "      <td>TSLA</td>\n",
       "      <td>Buy</td>\n",
       "    </tr>\n",
       "    <tr>\n",
       "      <th>5</th>\n",
       "      <td>Cindy</td>\n",
       "      <td>2020-01-06</td>\n",
       "      <td>TSLA</td>\n",
       "      <td>Buy</td>\n",
       "    </tr>\n",
       "    <tr>\n",
       "      <th>6</th>\n",
       "      <td>Laura</td>\n",
       "      <td>2020-01-01</td>\n",
       "      <td>FB</td>\n",
       "      <td>Buy</td>\n",
       "    </tr>\n",
       "    <tr>\n",
       "      <th>7</th>\n",
       "      <td>Laura</td>\n",
       "      <td>2020-01-01</td>\n",
       "      <td>FB</td>\n",
       "      <td>Sell</td>\n",
       "    </tr>\n",
       "  </tbody>\n",
       "</table>\n",
       "</div>"
      ],
      "text/plain": [
       "  Customer       Date Symbol Buy/Sell\n",
       "0      Bob 2020-01-01    GME      Buy\n",
       "1      Bob 2020-01-01    GME     Sell\n",
       "2      Bob 2020-01-02    GME      Buy\n",
       "3      Bob 2020-01-02   TWTR      Buy\n",
       "4    Cindy 2020-01-05   TSLA      Buy\n",
       "5    Cindy 2020-01-06   TSLA      Buy\n",
       "6    Laura 2020-01-01     FB      Buy\n",
       "7    Laura 2020-01-01     FB     Sell"
      ]
     },
     "execution_count": 2,
     "metadata": {},
     "output_type": "execute_result"
    }
   ],
   "source": [
    "filename = 'test_data.xlsx'\n",
    "df = pd.read_excel(filename)\n",
    "df"
   ]
  },
  {
   "cell_type": "markdown",
   "id": "38feb690",
   "metadata": {},
   "source": [
    "So if:\n",
    "Customer is same\n",
    "Date is same\n",
    "Stock symbol is same\n",
    "Buy/sell column has buy and sell in separate lines\n",
    "\n",
    "Highlight all of that stock symbol on that date"
   ]
  },
  {
   "cell_type": "code",
   "execution_count": 3,
   "id": "7854522e",
   "metadata": {},
   "outputs": [
    {
     "name": "stdout",
     "output_type": "stream",
     "text": [
      "  Customer       Date Symbol Buy/Sell\n",
      "0      Bob 2020-01-01    GME      Buy\n",
      "1      Bob 2020-01-01    GME     Sell\n",
      "6    Laura 2020-01-01     FB      Buy\n",
      "7    Laura 2020-01-01     FB     Sell\n"
     ]
    }
   ],
   "source": [
    "results_df = pd.DataFrame({'Customer':[], 'Date':[], 'Symbol':[], 'Buy/Sell':[]})\n",
    "\n",
    "for i, cust_df in df.groupby(['Customer', 'Date', 'Symbol'], ):\n",
    "    vals = cust_df['Buy/Sell'].values\n",
    "    if 'Buy' in vals and 'Sell' in vals:\n",
    "        results_df = results_df.append(cust_df, )\n",
    "                \n",
    "def append_to_excel(fpath, df, sheet_name):\n",
    "    with pd.ExcelWriter(fpath, mode=\"a\", if_sheet_exists='replace') as f:\n",
    "        df.to_excel(f, sheet_name=sheet_name, index=False)\n",
    "\n",
    "append_to_excel(filename, results_df, 'results')\n",
    "print(results_df)"
   ]
  },
  {
   "cell_type": "code",
   "execution_count": null,
   "id": "5883417c",
   "metadata": {},
   "outputs": [],
   "source": []
  }
 ],
 "metadata": {
  "kernelspec": {
   "display_name": "Python 3 (ipykernel)",
   "language": "python",
   "name": "python3"
  },
  "language_info": {
   "codemirror_mode": {
    "name": "ipython",
    "version": 3
   },
   "file_extension": ".py",
   "mimetype": "text/x-python",
   "name": "python",
   "nbconvert_exporter": "python",
   "pygments_lexer": "ipython3",
   "version": "3.9.7"
  }
 },
 "nbformat": 4,
 "nbformat_minor": 5
}
